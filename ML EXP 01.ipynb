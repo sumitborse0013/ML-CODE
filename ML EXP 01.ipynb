{
 "cells": [
  {
   "cell_type": "code",
   "execution_count": 1,
   "id": "8040fced-31e3-4b59-83ff-c1a7c0c752d6",
   "metadata": {
    "scrolled": true
   },
   "outputs": [
    {
     "data": {
      "text/html": [
       "<div>\n",
       "<style scoped>\n",
       "    .dataframe tbody tr th:only-of-type {\n",
       "        vertical-align: middle;\n",
       "    }\n",
       "\n",
       "    .dataframe tbody tr th {\n",
       "        vertical-align: top;\n",
       "    }\n",
       "\n",
       "    .dataframe thead th {\n",
       "        text-align: right;\n",
       "    }\n",
       "</style>\n",
       "<table border=\"1\" class=\"dataframe\">\n",
       "  <thead>\n",
       "    <tr style=\"text-align: right;\">\n",
       "      <th></th>\n",
       "      <th>SR.NO</th>\n",
       "      <th>Country</th>\n",
       "      <th>Active military</th>\n",
       "      <th>Reserve military</th>\n",
       "      <th>Paramilitary</th>\n",
       "      <th>Total</th>\n",
       "      <th>Per 1,000 capita(active)</th>\n",
       "      <th>Per 1,000 capita(total)</th>\n",
       "    </tr>\n",
       "  </thead>\n",
       "  <tbody>\n",
       "    <tr>\n",
       "      <th>0</th>\n",
       "      <td>1</td>\n",
       "      <td>Afghanistan</td>\n",
       "      <td>250000</td>\n",
       "      <td>75000</td>\n",
       "      <td>170000</td>\n",
       "      <td>495000</td>\n",
       "      <td>7.2</td>\n",
       "      <td>14.2</td>\n",
       "    </tr>\n",
       "    <tr>\n",
       "      <th>1</th>\n",
       "      <td>2</td>\n",
       "      <td>Albania</td>\n",
       "      <td>8000</td>\n",
       "      <td>0</td>\n",
       "      <td>0</td>\n",
       "      <td>8000</td>\n",
       "      <td>2.6</td>\n",
       "      <td>2.6</td>\n",
       "    </tr>\n",
       "    <tr>\n",
       "      <th>2</th>\n",
       "      <td>3</td>\n",
       "      <td>Algeria</td>\n",
       "      <td>130000</td>\n",
       "      <td>150000</td>\n",
       "      <td>187200</td>\n",
       "      <td>467200</td>\n",
       "      <td>3.1</td>\n",
       "      <td>11.2</td>\n",
       "    </tr>\n",
       "    <tr>\n",
       "      <th>3</th>\n",
       "      <td>4</td>\n",
       "      <td>Angola</td>\n",
       "      <td>107000</td>\n",
       "      <td>0</td>\n",
       "      <td>10000</td>\n",
       "      <td>117000</td>\n",
       "      <td>3.5</td>\n",
       "      <td>3.9</td>\n",
       "    </tr>\n",
       "    <tr>\n",
       "      <th>4</th>\n",
       "      <td>5</td>\n",
       "      <td>Antigua and Barbuda</td>\n",
       "      <td>180</td>\n",
       "      <td>80</td>\n",
       "      <td>0</td>\n",
       "      <td>260</td>\n",
       "      <td>1.9</td>\n",
       "      <td>2.7</td>\n",
       "    </tr>\n",
       "    <tr>\n",
       "      <th>...</th>\n",
       "      <td>...</td>\n",
       "      <td>...</td>\n",
       "      <td>...</td>\n",
       "      <td>...</td>\n",
       "      <td>...</td>\n",
       "      <td>...</td>\n",
       "      <td>...</td>\n",
       "      <td>...</td>\n",
       "    </tr>\n",
       "    <tr>\n",
       "      <th>167</th>\n",
       "      <td>168</td>\n",
       "      <td>Venezuela</td>\n",
       "      <td>123000</td>\n",
       "      <td>8000</td>\n",
       "      <td>220000</td>\n",
       "      <td>351000</td>\n",
       "      <td>3.9</td>\n",
       "      <td>11.1</td>\n",
       "    </tr>\n",
       "    <tr>\n",
       "      <th>168</th>\n",
       "      <td>169</td>\n",
       "      <td>Vietnam</td>\n",
       "      <td>482000</td>\n",
       "      <td>5000000</td>\n",
       "      <td>40000</td>\n",
       "      <td>5522000</td>\n",
       "      <td>5.0</td>\n",
       "      <td>56.9</td>\n",
       "    </tr>\n",
       "    <tr>\n",
       "      <th>169</th>\n",
       "      <td>170</td>\n",
       "      <td>Yemen</td>\n",
       "      <td>40000</td>\n",
       "      <td>0</td>\n",
       "      <td>0</td>\n",
       "      <td>40000</td>\n",
       "      <td>1.4</td>\n",
       "      <td>1.4</td>\n",
       "    </tr>\n",
       "    <tr>\n",
       "      <th>170</th>\n",
       "      <td>171</td>\n",
       "      <td>Zambia</td>\n",
       "      <td>15100</td>\n",
       "      <td>3000</td>\n",
       "      <td>1400</td>\n",
       "      <td>19500</td>\n",
       "      <td>0.9</td>\n",
       "      <td>1.2</td>\n",
       "    </tr>\n",
       "    <tr>\n",
       "      <th>171</th>\n",
       "      <td>172</td>\n",
       "      <td>Zimbabwe</td>\n",
       "      <td>29000</td>\n",
       "      <td>0</td>\n",
       "      <td>21800</td>\n",
       "      <td>50800</td>\n",
       "      <td>2.1</td>\n",
       "      <td>3.6</td>\n",
       "    </tr>\n",
       "  </tbody>\n",
       "</table>\n",
       "<p>172 rows × 8 columns</p>\n",
       "</div>"
      ],
      "text/plain": [
       "     SR.NO              Country  Active military  Reserve military  \\\n",
       "0        1          Afghanistan           250000             75000   \n",
       "1        2              Albania             8000                 0   \n",
       "2        3              Algeria           130000            150000   \n",
       "3        4               Angola           107000                 0   \n",
       "4        5  Antigua and Barbuda              180                80   \n",
       "..     ...                  ...              ...               ...   \n",
       "167    168            Venezuela           123000              8000   \n",
       "168    169              Vietnam           482000           5000000   \n",
       "169    170                Yemen            40000                 0   \n",
       "170    171               Zambia            15100              3000   \n",
       "171    172             Zimbabwe            29000                 0   \n",
       "\n",
       "     Paramilitary    Total  Per 1,000 capita(active)  Per 1,000 capita(total)  \n",
       "0          170000   495000                       7.2                     14.2  \n",
       "1               0     8000                       2.6                      2.6  \n",
       "2          187200   467200                       3.1                     11.2  \n",
       "3           10000   117000                       3.5                      3.9  \n",
       "4               0      260                       1.9                      2.7  \n",
       "..            ...      ...                       ...                      ...  \n",
       "167        220000   351000                       3.9                     11.1  \n",
       "168         40000  5522000                       5.0                     56.9  \n",
       "169             0    40000                       1.4                      1.4  \n",
       "170          1400    19500                       0.9                      1.2  \n",
       "171         21800    50800                       2.1                      3.6  \n",
       "\n",
       "[172 rows x 8 columns]"
      ]
     },
     "execution_count": 1,
     "metadata": {},
     "output_type": "execute_result"
    }
   ],
   "source": [
    "import pandas as pd\n",
    "df=pd.read_csv(\"C:/Users/sumit/OneDrive/Documents/military.csv\")\n",
    "df"
   ]
  },
  {
   "cell_type": "code",
   "execution_count": 8,
   "id": "69bff35a-d319-470a-af65-f306f71fc612",
   "metadata": {},
   "outputs": [
    {
     "data": {
      "text/html": [
       "<div>\n",
       "<style scoped>\n",
       "    .dataframe tbody tr th:only-of-type {\n",
       "        vertical-align: middle;\n",
       "    }\n",
       "\n",
       "    .dataframe tbody tr th {\n",
       "        vertical-align: top;\n",
       "    }\n",
       "\n",
       "    .dataframe thead th {\n",
       "        text-align: right;\n",
       "    }\n",
       "</style>\n",
       "<table border=\"1\" class=\"dataframe\">\n",
       "  <thead>\n",
       "    <tr style=\"text-align: right;\">\n",
       "      <th></th>\n",
       "      <th>SR.NO</th>\n",
       "      <th>Country</th>\n",
       "      <th>Active military</th>\n",
       "      <th>Reserve military</th>\n",
       "      <th>Paramilitary</th>\n",
       "      <th>Total</th>\n",
       "      <th>Per 1,000 capita(active)</th>\n",
       "      <th>Per 1,000 capita(total)</th>\n",
       "    </tr>\n",
       "  </thead>\n",
       "  <tbody>\n",
       "    <tr>\n",
       "      <th>0</th>\n",
       "      <td>1</td>\n",
       "      <td>Afghanistan</td>\n",
       "      <td>250000</td>\n",
       "      <td>75000</td>\n",
       "      <td>170000</td>\n",
       "      <td>495000</td>\n",
       "      <td>7.2</td>\n",
       "      <td>14.2</td>\n",
       "    </tr>\n",
       "    <tr>\n",
       "      <th>1</th>\n",
       "      <td>2</td>\n",
       "      <td>Albania</td>\n",
       "      <td>8000</td>\n",
       "      <td>0</td>\n",
       "      <td>0</td>\n",
       "      <td>8000</td>\n",
       "      <td>2.6</td>\n",
       "      <td>2.6</td>\n",
       "    </tr>\n",
       "    <tr>\n",
       "      <th>2</th>\n",
       "      <td>3</td>\n",
       "      <td>Algeria</td>\n",
       "      <td>130000</td>\n",
       "      <td>150000</td>\n",
       "      <td>187200</td>\n",
       "      <td>467200</td>\n",
       "      <td>3.1</td>\n",
       "      <td>11.2</td>\n",
       "    </tr>\n",
       "    <tr>\n",
       "      <th>3</th>\n",
       "      <td>4</td>\n",
       "      <td>Angola</td>\n",
       "      <td>107000</td>\n",
       "      <td>0</td>\n",
       "      <td>10000</td>\n",
       "      <td>117000</td>\n",
       "      <td>3.5</td>\n",
       "      <td>3.9</td>\n",
       "    </tr>\n",
       "    <tr>\n",
       "      <th>4</th>\n",
       "      <td>5</td>\n",
       "      <td>Antigua and Barbuda</td>\n",
       "      <td>180</td>\n",
       "      <td>80</td>\n",
       "      <td>0</td>\n",
       "      <td>260</td>\n",
       "      <td>1.9</td>\n",
       "      <td>2.7</td>\n",
       "    </tr>\n",
       "  </tbody>\n",
       "</table>\n",
       "</div>"
      ],
      "text/plain": [
       "   SR.NO              Country  Active military  Reserve military  \\\n",
       "0      1          Afghanistan           250000             75000   \n",
       "1      2              Albania             8000                 0   \n",
       "2      3              Algeria           130000            150000   \n",
       "3      4               Angola           107000                 0   \n",
       "4      5  Antigua and Barbuda              180                80   \n",
       "\n",
       "   Paramilitary   Total  Per 1,000 capita(active)  Per 1,000 capita(total)  \n",
       "0        170000  495000                       7.2                     14.2  \n",
       "1             0    8000                       2.6                      2.6  \n",
       "2        187200  467200                       3.1                     11.2  \n",
       "3         10000  117000                       3.5                      3.9  \n",
       "4             0     260                       1.9                      2.7  "
      ]
     },
     "execution_count": 8,
     "metadata": {},
     "output_type": "execute_result"
    }
   ],
   "source": [
    "df.head(5)"
   ]
  },
  {
   "cell_type": "code",
   "execution_count": 9,
   "id": "fd635c95-ca9d-4c5c-a54b-69089262bc94",
   "metadata": {},
   "outputs": [
    {
     "data": {
      "text/html": [
       "<div>\n",
       "<style scoped>\n",
       "    .dataframe tbody tr th:only-of-type {\n",
       "        vertical-align: middle;\n",
       "    }\n",
       "\n",
       "    .dataframe tbody tr th {\n",
       "        vertical-align: top;\n",
       "    }\n",
       "\n",
       "    .dataframe thead th {\n",
       "        text-align: right;\n",
       "    }\n",
       "</style>\n",
       "<table border=\"1\" class=\"dataframe\">\n",
       "  <thead>\n",
       "    <tr style=\"text-align: right;\">\n",
       "      <th></th>\n",
       "      <th>SR.NO</th>\n",
       "      <th>Country</th>\n",
       "      <th>Active military</th>\n",
       "      <th>Reserve military</th>\n",
       "      <th>Paramilitary</th>\n",
       "      <th>Total</th>\n",
       "      <th>Per 1,000 capita(active)</th>\n",
       "      <th>Per 1,000 capita(total)</th>\n",
       "    </tr>\n",
       "  </thead>\n",
       "  <tbody>\n",
       "    <tr>\n",
       "      <th>167</th>\n",
       "      <td>168</td>\n",
       "      <td>Venezuela</td>\n",
       "      <td>123000</td>\n",
       "      <td>8000</td>\n",
       "      <td>220000</td>\n",
       "      <td>351000</td>\n",
       "      <td>3.9</td>\n",
       "      <td>11.1</td>\n",
       "    </tr>\n",
       "    <tr>\n",
       "      <th>168</th>\n",
       "      <td>169</td>\n",
       "      <td>Vietnam</td>\n",
       "      <td>482000</td>\n",
       "      <td>5000000</td>\n",
       "      <td>40000</td>\n",
       "      <td>5522000</td>\n",
       "      <td>5.0</td>\n",
       "      <td>56.9</td>\n",
       "    </tr>\n",
       "    <tr>\n",
       "      <th>169</th>\n",
       "      <td>170</td>\n",
       "      <td>Yemen</td>\n",
       "      <td>40000</td>\n",
       "      <td>0</td>\n",
       "      <td>0</td>\n",
       "      <td>40000</td>\n",
       "      <td>1.4</td>\n",
       "      <td>1.4</td>\n",
       "    </tr>\n",
       "    <tr>\n",
       "      <th>170</th>\n",
       "      <td>171</td>\n",
       "      <td>Zambia</td>\n",
       "      <td>15100</td>\n",
       "      <td>3000</td>\n",
       "      <td>1400</td>\n",
       "      <td>19500</td>\n",
       "      <td>0.9</td>\n",
       "      <td>1.2</td>\n",
       "    </tr>\n",
       "    <tr>\n",
       "      <th>171</th>\n",
       "      <td>172</td>\n",
       "      <td>Zimbabwe</td>\n",
       "      <td>29000</td>\n",
       "      <td>0</td>\n",
       "      <td>21800</td>\n",
       "      <td>50800</td>\n",
       "      <td>2.1</td>\n",
       "      <td>3.6</td>\n",
       "    </tr>\n",
       "  </tbody>\n",
       "</table>\n",
       "</div>"
      ],
      "text/plain": [
       "     SR.NO    Country  Active military  Reserve military  Paramilitary  \\\n",
       "167    168  Venezuela           123000              8000        220000   \n",
       "168    169    Vietnam           482000           5000000         40000   \n",
       "169    170      Yemen            40000                 0             0   \n",
       "170    171     Zambia            15100              3000          1400   \n",
       "171    172   Zimbabwe            29000                 0         21800   \n",
       "\n",
       "       Total  Per 1,000 capita(active)  Per 1,000 capita(total)  \n",
       "167   351000                       3.9                     11.1  \n",
       "168  5522000                       5.0                     56.9  \n",
       "169    40000                       1.4                      1.4  \n",
       "170    19500                       0.9                      1.2  \n",
       "171    50800                       2.1                      3.6  "
      ]
     },
     "execution_count": 9,
     "metadata": {},
     "output_type": "execute_result"
    }
   ],
   "source": [
    "df.tail(5)"
   ]
  },
  {
   "cell_type": "code",
   "execution_count": 12,
   "id": "d2baa43b-8217-4387-9da1-3dc629afbe41",
   "metadata": {},
   "outputs": [
    {
     "data": {
      "text/plain": [
       "(172, 8)"
      ]
     },
     "execution_count": 12,
     "metadata": {},
     "output_type": "execute_result"
    }
   ],
   "source": [
    "df.shape"
   ]
  },
  {
   "cell_type": "code",
   "execution_count": 3,
   "id": "45407a87-e72a-4080-bdcb-3d08201c2df2",
   "metadata": {},
   "outputs": [
    {
     "data": {
      "text/plain": [
       "<bound method DataFrame.info of      SR.NO              Country  Active military  Reserve military  \\\n",
       "0        1          Afghanistan           250000             75000   \n",
       "1        2              Albania             8000                 0   \n",
       "2        3              Algeria           130000            150000   \n",
       "3        4               Angola           107000                 0   \n",
       "4        5  Antigua and Barbuda              180                80   \n",
       "..     ...                  ...              ...               ...   \n",
       "167    168            Venezuela           123000              8000   \n",
       "168    169              Vietnam           482000           5000000   \n",
       "169    170                Yemen            40000                 0   \n",
       "170    171               Zambia            15100              3000   \n",
       "171    172             Zimbabwe            29000                 0   \n",
       "\n",
       "     Paramilitary    Total  Per 1,000 capita(active)  Per 1,000 capita(total)  \n",
       "0          170000   495000                       7.2                     14.2  \n",
       "1               0     8000                       2.6                      2.6  \n",
       "2          187200   467200                       3.1                     11.2  \n",
       "3           10000   117000                       3.5                      3.9  \n",
       "4               0      260                       1.9                      2.7  \n",
       "..            ...      ...                       ...                      ...  \n",
       "167        220000   351000                       3.9                     11.1  \n",
       "168         40000  5522000                       5.0                     56.9  \n",
       "169             0    40000                       1.4                      1.4  \n",
       "170          1400    19500                       0.9                      1.2  \n",
       "171         21800    50800                       2.1                      3.6  \n",
       "\n",
       "[172 rows x 8 columns]>"
      ]
     },
     "execution_count": 3,
     "metadata": {},
     "output_type": "execute_result"
    }
   ],
   "source": [
    "df.info"
   ]
  },
  {
   "cell_type": "code",
   "execution_count": 14,
   "id": "02f46da7-e93c-44ce-b87c-d32b8a6ac946",
   "metadata": {},
   "outputs": [
    {
     "data": {
      "text/plain": [
       "1376"
      ]
     },
     "execution_count": 14,
     "metadata": {},
     "output_type": "execute_result"
    }
   ],
   "source": [
    "df.size"
   ]
  },
  {
   "cell_type": "code",
   "execution_count": 15,
   "id": "739f1a11-cebc-4804-a6e7-f3565b8d8e3f",
   "metadata": {},
   "outputs": [
    {
     "data": {
      "text/plain": [
       "<bound method DataFrame.isna of      SR.NO              Country  Active military  Reserve military  \\\n",
       "0        1          Afghanistan           250000             75000   \n",
       "1        2              Albania             8000                 0   \n",
       "2        3              Algeria           130000            150000   \n",
       "3        4               Angola           107000                 0   \n",
       "4        5  Antigua and Barbuda              180                80   \n",
       "..     ...                  ...              ...               ...   \n",
       "167    168            Venezuela           123000              8000   \n",
       "168    169              Vietnam           482000           5000000   \n",
       "169    170                Yemen            40000                 0   \n",
       "170    171               Zambia            15100              3000   \n",
       "171    172             Zimbabwe            29000                 0   \n",
       "\n",
       "     Paramilitary    Total  Per 1,000 capita(active)  Per 1,000 capita(total)  \n",
       "0          170000   495000                       7.2                     14.2  \n",
       "1               0     8000                       2.6                      2.6  \n",
       "2          187200   467200                       3.1                     11.2  \n",
       "3           10000   117000                       3.5                      3.9  \n",
       "4               0      260                       1.9                      2.7  \n",
       "..            ...      ...                       ...                      ...  \n",
       "167        220000   351000                       3.9                     11.1  \n",
       "168         40000  5522000                       5.0                     56.9  \n",
       "169             0    40000                       1.4                      1.4  \n",
       "170          1400    19500                       0.9                      1.2  \n",
       "171         21800    50800                       2.1                      3.6  \n",
       "\n",
       "[172 rows x 8 columns]>"
      ]
     },
     "execution_count": 15,
     "metadata": {},
     "output_type": "execute_result"
    }
   ],
   "source": [
    "df.isna"
   ]
  },
  {
   "cell_type": "code",
   "execution_count": 19,
   "id": "ab9ad69c-877f-4391-8036-6d47955ca593",
   "metadata": {},
   "outputs": [
    {
     "data": {
      "text/plain": [
       "<bound method NDFrame.describe of      SR.NO              Country  Active military  Reserve military  \\\n",
       "0        1          Afghanistan           250000             75000   \n",
       "1        2              Albania             8000                 0   \n",
       "2        3              Algeria           130000            150000   \n",
       "3        4               Angola           107000                 0   \n",
       "4        5  Antigua and Barbuda              180                80   \n",
       "..     ...                  ...              ...               ...   \n",
       "167    168            Venezuela           123000              8000   \n",
       "168    169              Vietnam           482000           5000000   \n",
       "169    170                Yemen            40000                 0   \n",
       "170    171               Zambia            15100              3000   \n",
       "171    172             Zimbabwe            29000                 0   \n",
       "\n",
       "     Paramilitary    Total  Per 1,000 capita(active)  Per 1,000 capita(total)  \n",
       "0          170000   495000                       7.2                     14.2  \n",
       "1               0     8000                       2.6                      2.6  \n",
       "2          187200   467200                       3.1                     11.2  \n",
       "3           10000   117000                       3.5                      3.9  \n",
       "4               0      260                       1.9                      2.7  \n",
       "..            ...      ...                       ...                      ...  \n",
       "167        220000   351000                       3.9                     11.1  \n",
       "168         40000  5522000                       5.0                     56.9  \n",
       "169             0    40000                       1.4                      1.4  \n",
       "170          1400    19500                       0.9                      1.2  \n",
       "171         21800    50800                       2.1                      3.6  \n",
       "\n",
       "[172 rows x 8 columns]>"
      ]
     },
     "execution_count": 19,
     "metadata": {},
     "output_type": "execute_result"
    }
   ],
   "source": [
    "df.describe"
   ]
  },
  {
   "cell_type": "code",
   "execution_count": 17,
   "id": "70f53148-1afb-44f3-b804-2326b979caec",
   "metadata": {},
   "outputs": [
    {
     "data": {
      "text/plain": [
       "<bound method DataFrame.nunique of      SR.NO              Country  Active military  Reserve military  \\\n",
       "0        1          Afghanistan           250000             75000   \n",
       "1        2              Albania             8000                 0   \n",
       "2        3              Algeria           130000            150000   \n",
       "3        4               Angola           107000                 0   \n",
       "4        5  Antigua and Barbuda              180                80   \n",
       "..     ...                  ...              ...               ...   \n",
       "167    168            Venezuela           123000              8000   \n",
       "168    169              Vietnam           482000           5000000   \n",
       "169    170                Yemen            40000                 0   \n",
       "170    171               Zambia            15100              3000   \n",
       "171    172             Zimbabwe            29000                 0   \n",
       "\n",
       "     Paramilitary    Total  Per 1,000 capita(active)  Per 1,000 capita(total)  \n",
       "0          170000   495000                       7.2                     14.2  \n",
       "1               0     8000                       2.6                      2.6  \n",
       "2          187200   467200                       3.1                     11.2  \n",
       "3           10000   117000                       3.5                      3.9  \n",
       "4               0      260                       1.9                      2.7  \n",
       "..            ...      ...                       ...                      ...  \n",
       "167        220000   351000                       3.9                     11.1  \n",
       "168         40000  5522000                       5.0                     56.9  \n",
       "169             0    40000                       1.4                      1.4  \n",
       "170          1400    19500                       0.9                      1.2  \n",
       "171         21800    50800                       2.1                      3.6  \n",
       "\n",
       "[172 rows x 8 columns]>"
      ]
     },
     "execution_count": 17,
     "metadata": {},
     "output_type": "execute_result"
    }
   ],
   "source": [
    "df.nunique"
   ]
  },
  {
   "cell_type": "code",
   "execution_count": 21,
   "id": "bc546970-a287-4b52-8433-13c474615321",
   "metadata": {},
   "outputs": [],
   "source": [
    "import numpy as np\n"
   ]
  },
  {
   "cell_type": "code",
   "execution_count": 26,
   "id": "2ae16e4e-a9e5-4d32-a63c-252486620163",
   "metadata": {},
   "outputs": [
    {
     "name": "stdout",
     "output_type": "stream",
     "text": [
      "[ 1  2  3  4  5  6  7  8  9 10]\n"
     ]
    }
   ],
   "source": [
    "my_array = np.array([1,2,3,4,5,6,7,8,9,10])\n",
    "print(my_array)\n",
    "\n"
   ]
  },
  {
   "cell_type": "code",
   "execution_count": 27,
   "id": "b3d4a434-b6e7-4599-97fa-f23db0d4ef9d",
   "metadata": {},
   "outputs": [
    {
     "name": "stdout",
     "output_type": "stream",
     "text": [
      "10\n"
     ]
    }
   ],
   "source": [
    "print(np.max(my_array))"
   ]
  },
  {
   "cell_type": "code",
   "execution_count": 28,
   "id": "8bd7c33f-3bc2-4e19-8ad5-5a9f85d8dece",
   "metadata": {},
   "outputs": [
    {
     "name": "stdout",
     "output_type": "stream",
     "text": [
      "1\n"
     ]
    }
   ],
   "source": [
    "print(np.min(my_array))"
   ]
  },
  {
   "cell_type": "code",
   "execution_count": 29,
   "id": "986e02a4-1f4f-4c1d-81b3-d9117c36104b",
   "metadata": {},
   "outputs": [
    {
     "name": "stdout",
     "output_type": "stream",
     "text": [
      "5.5\n"
     ]
    }
   ],
   "source": [
    "print(np.mean(my_array))"
   ]
  },
  {
   "cell_type": "code",
   "execution_count": 30,
   "id": "99141b7d-640f-4ee2-814d-386edc38c220",
   "metadata": {},
   "outputs": [
    {
     "name": "stdout",
     "output_type": "stream",
     "text": [
      "5.5\n"
     ]
    }
   ],
   "source": [
    "print(np.median(my_array))"
   ]
  },
  {
   "cell_type": "code",
   "execution_count": 37,
   "id": "c4dcc11d-49de-414a-97a9-adcc532d28b9",
   "metadata": {},
   "outputs": [
    {
     "name": "stdout",
     "output_type": "stream",
     "text": [
      "2.8\n"
     ]
    }
   ],
   "source": [
    "print(np.percentile(my_array,20))"
   ]
  },
  {
   "cell_type": "code",
   "execution_count": 33,
   "id": "24bffeff-cdda-4ca1-b373-fd8f2f57df78",
   "metadata": {},
   "outputs": [
    {
     "name": "stdout",
     "output_type": "stream",
     "text": [
      "[ 1  2  3  4  5  6  7  8  9 10]\n"
     ]
    }
   ],
   "source": [
    "print(np.stack(my_array))"
   ]
  },
  {
   "cell_type": "code",
   "execution_count": 34,
   "id": "6a9084d9-778f-45cc-b440-3482c5ff1457",
   "metadata": {},
   "outputs": [
    {
     "name": "stdout",
     "output_type": "stream",
     "text": [
      "[[ 1]\n",
      " [ 2]\n",
      " [ 3]\n",
      " [ 4]\n",
      " [ 5]\n",
      " [ 6]\n",
      " [ 7]\n",
      " [ 8]\n",
      " [ 9]\n",
      " [10]]\n"
     ]
    }
   ],
   "source": [
    "print(np.vstack(my_array))"
   ]
  },
  {
   "cell_type": "code",
   "execution_count": 35,
   "id": "25813e20-712b-4681-93d1-801e22cd213c",
   "metadata": {},
   "outputs": [
    {
     "name": "stdout",
     "output_type": "stream",
     "text": [
      "[ 1  2  3  4  5  6  7  8  9 10]\n"
     ]
    }
   ],
   "source": [
    "print(np.hstack(my_array))"
   ]
  },
  {
   "cell_type": "code",
   "execution_count": 10,
   "id": "aa8913cf-7b14-4b06-9b73-c81407218c47",
   "metadata": {},
   "outputs": [],
   "source": [
    "import pandas as pd\n",
    "import matplotlib.pyplot as plt"
   ]
  },
  {
   "cell_type": "code",
   "execution_count": 11,
   "id": "20717f7a-60b8-4a70-acce-a4e1e215a1eb",
   "metadata": {},
   "outputs": [],
   "source": [
    "df=pd.read_csv(\"C:/Users/sumit/OneDrive/Documents/military.csv\")"
   ]
  },
  {
   "cell_type": "code",
   "execution_count": 17,
   "id": "427749ca-ed77-4c49-abec-d605c0509d92",
   "metadata": {},
   "outputs": [
    {
     "data": {
      "text/plain": [
       "<Axes: >"
      ]
     },
     "execution_count": 17,
     "metadata": {},
     "output_type": "execute_result"
    },
    {
     "data": {
      "image/png": "[encoded data removed]",
      "text/plain": [
       "<Figure size 640x480 with 1 Axes>"
      ]
     },
     "metadata": {},
     "output_type": "display_data"
    }
   ],
   "source": [
    "df.plot()"
   ]
  },
  {
   "cell_type": "code",
   "execution_count": 27,
   "id": "3d0bd125-c24f-43b4-a053-716de2d7ebe5",
   "metadata": {},
   "outputs": [],
   "source": [
    "plt.show()"
   ]
  },
  {
   "cell_type": "code",
   "execution_count": 25,
   "id": "7ce9e96b-3b1f-42c7-882e-27d8f42ed13e",
   "metadata": {},
   "outputs": [],
   "source": [
    "df=pd.read_csv(\"C:/Users/sumit/OneDrive/Documents/military.csv\")"
   ]
  },
  {
   "cell_type": "code",
   "execution_count": 30,
   "id": "ee49a7fa-d14b-4daa-a764-b1cd1d9683c8",
   "metadata": {},
   "outputs": [
    {
     "ename": "KeyError",
     "evalue": "'para military'",
     "output_type": "error",
     "traceback": [
      "\u001b[1;31m---------------------------------------------------------------------------\u001b[0m",
      "\u001b[1;31mKeyError\u001b[0m                                  Traceback (most recent call last)",
      "File \u001b[1;32mC:\\ProgramData\\anaconda3\\Lib\\site-packages\\pandas\\core\\indexes\\base.py:3791\u001b[0m, in \u001b[0;36mIndex.get_loc\u001b[1;34m(self, key)\u001b[0m\n\u001b[0;32m   3790\u001b[0m \u001b[38;5;28;01mtry\u001b[39;00m:\n\u001b[1;32m-> 3791\u001b[0m     \u001b[38;5;28;01mreturn\u001b[39;00m \u001b[38;5;28mself\u001b[39m\u001b[38;5;241m.\u001b[39m_engine\u001b[38;5;241m.\u001b[39mget_loc(casted_key)\n\u001b[0;32m   3792\u001b[0m \u001b[38;5;28;01mexcept\u001b[39;00m \u001b[38;5;167;01mKeyError\u001b[39;00m \u001b[38;5;28;01mas\u001b[39;00m err:\n",
      "File \u001b[1;32mindex.pyx:152\u001b[0m, in \u001b[0;36mpandas._libs.index.IndexEngine.get_loc\u001b[1;34m()\u001b[0m\n",
      "File \u001b[1;32mindex.pyx:181\u001b[0m, in \u001b[0;36mpandas._libs.index.IndexEngine.get_loc\u001b[1;34m()\u001b[0m\n",
      "File \u001b[1;32mpandas\\_libs\\hashtable_class_helper.pxi:7080\u001b[0m, in \u001b[0;36mpandas._libs.hashtable.PyObjectHashTable.get_item\u001b[1;34m()\u001b[0m\n",
      "File \u001b[1;32mpandas\\_libs\\hashtable_class_helper.pxi:7088\u001b[0m, in \u001b[0;36mpandas._libs.hashtable.PyObjectHashTable.get_item\u001b[1;34m()\u001b[0m\n",
      "\u001b[1;31mKeyError\u001b[0m: 'para military'",
      "\nThe above exception was the direct cause of the following exception:\n",
      "\u001b[1;31mKeyError\u001b[0m                                  Traceback (most recent call last)",
      "Cell \u001b[1;32mIn[30], line 1\u001b[0m\n\u001b[1;32m----> 1\u001b[0m df\u001b[38;5;241m.\u001b[39mplot(kind\u001b[38;5;241m=\u001b[39m\u001b[38;5;124m'\u001b[39m\u001b[38;5;124mscatter\u001b[39m\u001b[38;5;124m'\u001b[39m, x\u001b[38;5;241m=\u001b[39m\u001b[38;5;124m'\u001b[39m\u001b[38;5;124mpara military\u001b[39m\u001b[38;5;124m'\u001b[39m, y\u001b[38;5;241m=\u001b[39m\u001b[38;5;124m'\u001b[39m\u001b[38;5;124mTotal\u001b[39m\u001b[38;5;124m'\u001b[39m)\n",
      "File \u001b[1;32mC:\\ProgramData\\anaconda3\\Lib\\site-packages\\pandas\\plotting\\_core.py:976\u001b[0m, in \u001b[0;36mPlotAccessor.__call__\u001b[1;34m(self, *args, **kwargs)\u001b[0m\n\u001b[0;32m    974\u001b[0m \u001b[38;5;28;01mif\u001b[39;00m kind \u001b[38;5;129;01min\u001b[39;00m \u001b[38;5;28mself\u001b[39m\u001b[38;5;241m.\u001b[39m_dataframe_kinds:\n\u001b[0;32m    975\u001b[0m     \u001b[38;5;28;01mif\u001b[39;00m \u001b[38;5;28misinstance\u001b[39m(data, ABCDataFrame):\n\u001b[1;32m--> 976\u001b[0m         \u001b[38;5;28;01mreturn\u001b[39;00m plot_backend\u001b[38;5;241m.\u001b[39mplot(data, x\u001b[38;5;241m=\u001b[39mx, y\u001b[38;5;241m=\u001b[39my, kind\u001b[38;5;241m=\u001b[39mkind, \u001b[38;5;241m*\u001b[39m\u001b[38;5;241m*\u001b[39mkwargs)\n\u001b[0;32m    977\u001b[0m     \u001b[38;5;28;01melse\u001b[39;00m:\n\u001b[0;32m    978\u001b[0m         \u001b[38;5;28;01mraise\u001b[39;00m \u001b[38;5;167;01mValueError\u001b[39;00m(\u001b[38;5;124mf\u001b[39m\u001b[38;5;124m\"\u001b[39m\u001b[38;5;124mplot kind \u001b[39m\u001b[38;5;132;01m{\u001b[39;00mkind\u001b[38;5;132;01m}\u001b[39;00m\u001b[38;5;124m can only be used for data frames\u001b[39m\u001b[38;5;124m\"\u001b[39m)\n",
      "File \u001b[1;32mC:\\ProgramData\\anaconda3\\Lib\\site-packages\\pandas\\plotting\\_matplotlib\\__init__.py:71\u001b[0m, in \u001b[0;36mplot\u001b[1;34m(data, kind, **kwargs)\u001b[0m\n\u001b[0;32m     69\u001b[0m         kwargs[\u001b[38;5;124m\"\u001b[39m\u001b[38;5;124max\u001b[39m\u001b[38;5;124m\"\u001b[39m] \u001b[38;5;241m=\u001b[39m \u001b[38;5;28mgetattr\u001b[39m(ax, \u001b[38;5;124m\"\u001b[39m\u001b[38;5;124mleft_ax\u001b[39m\u001b[38;5;124m\"\u001b[39m, ax)\n\u001b[0;32m     70\u001b[0m plot_obj \u001b[38;5;241m=\u001b[39m PLOT_CLASSES[kind](data, \u001b[38;5;241m*\u001b[39m\u001b[38;5;241m*\u001b[39mkwargs)\n\u001b[1;32m---> 71\u001b[0m plot_obj\u001b[38;5;241m.\u001b[39mgenerate()\n\u001b[0;32m     72\u001b[0m plot_obj\u001b[38;5;241m.\u001b[39mdraw()\n\u001b[0;32m     73\u001b[0m \u001b[38;5;28;01mreturn\u001b[39;00m plot_obj\u001b[38;5;241m.\u001b[39mresult\n",
      "File \u001b[1;32mC:\\ProgramData\\anaconda3\\Lib\\site-packages\\pandas\\plotting\\_matplotlib\\core.py:453\u001b[0m, in \u001b[0;36mMPLPlot.generate\u001b[1;34m(self)\u001b[0m\n\u001b[0;32m    451\u001b[0m \u001b[38;5;28mself\u001b[39m\u001b[38;5;241m.\u001b[39m_compute_plot_data()\n\u001b[0;32m    452\u001b[0m \u001b[38;5;28mself\u001b[39m\u001b[38;5;241m.\u001b[39m_setup_subplots()\n\u001b[1;32m--> 453\u001b[0m \u001b[38;5;28mself\u001b[39m\u001b[38;5;241m.\u001b[39m_make_plot()\n\u001b[0;32m    454\u001b[0m \u001b[38;5;28mself\u001b[39m\u001b[38;5;241m.\u001b[39m_add_table()\n\u001b[0;32m    455\u001b[0m \u001b[38;5;28mself\u001b[39m\u001b[38;5;241m.\u001b[39m_make_legend()\n",
      "File \u001b[1;32mC:\\ProgramData\\anaconda3\\Lib\\site-packages\\pandas\\plotting\\_matplotlib\\core.py:1267\u001b[0m, in \u001b[0;36mScatterPlot._make_plot\u001b[1;34m(self)\u001b[0m\n\u001b[0;32m   1264\u001b[0m \u001b[38;5;28;01melse\u001b[39;00m:\n\u001b[0;32m   1265\u001b[0m     label \u001b[38;5;241m=\u001b[39m \u001b[38;5;28;01mNone\u001b[39;00m\n\u001b[0;32m   1266\u001b[0m scatter \u001b[38;5;241m=\u001b[39m ax\u001b[38;5;241m.\u001b[39mscatter(\n\u001b[1;32m-> 1267\u001b[0m     data[x]\u001b[38;5;241m.\u001b[39mvalues,\n\u001b[0;32m   1268\u001b[0m     data[y]\u001b[38;5;241m.\u001b[39mvalues,\n\u001b[0;32m   1269\u001b[0m     c\u001b[38;5;241m=\u001b[39mc_values,\n\u001b[0;32m   1270\u001b[0m     label\u001b[38;5;241m=\u001b[39mlabel,\n\u001b[0;32m   1271\u001b[0m     cmap\u001b[38;5;241m=\u001b[39mcmap,\n\u001b[0;32m   1272\u001b[0m     norm\u001b[38;5;241m=\u001b[39mnorm,\n\u001b[0;32m   1273\u001b[0m     \u001b[38;5;241m*\u001b[39m\u001b[38;5;241m*\u001b[39m\u001b[38;5;28mself\u001b[39m\u001b[38;5;241m.\u001b[39mkwds,\n\u001b[0;32m   1274\u001b[0m )\n\u001b[0;32m   1275\u001b[0m \u001b[38;5;28;01mif\u001b[39;00m cb:\n\u001b[0;32m   1276\u001b[0m     cbar_label \u001b[38;5;241m=\u001b[39m c \u001b[38;5;28;01mif\u001b[39;00m c_is_column \u001b[38;5;28;01melse\u001b[39;00m \u001b[38;5;124m\"\u001b[39m\u001b[38;5;124m\"\u001b[39m\n",
      "File \u001b[1;32mC:\\ProgramData\\anaconda3\\Lib\\site-packages\\pandas\\core\\frame.py:3893\u001b[0m, in \u001b[0;36mDataFrame.__getitem__\u001b[1;34m(self, key)\u001b[0m\n\u001b[0;32m   3891\u001b[0m \u001b[38;5;28;01mif\u001b[39;00m \u001b[38;5;28mself\u001b[39m\u001b[38;5;241m.\u001b[39mcolumns\u001b[38;5;241m.\u001b[39mnlevels \u001b[38;5;241m>\u001b[39m \u001b[38;5;241m1\u001b[39m:\n\u001b[0;32m   3892\u001b[0m     \u001b[38;5;28;01mreturn\u001b[39;00m \u001b[38;5;28mself\u001b[39m\u001b[38;5;241m.\u001b[39m_getitem_multilevel(key)\n\u001b[1;32m-> 3893\u001b[0m indexer \u001b[38;5;241m=\u001b[39m \u001b[38;5;28mself\u001b[39m\u001b[38;5;241m.\u001b[39mcolumns\u001b[38;5;241m.\u001b[39mget_loc(key)\n\u001b[0;32m   3894\u001b[0m \u001b[38;5;28;01mif\u001b[39;00m is_integer(indexer):\n\u001b[0;32m   3895\u001b[0m     indexer \u001b[38;5;241m=\u001b[39m [indexer]\n",
      "File \u001b[1;32mC:\\ProgramData\\anaconda3\\Lib\\site-packages\\pandas\\core\\indexes\\base.py:3798\u001b[0m, in \u001b[0;36mIndex.get_loc\u001b[1;34m(self, key)\u001b[0m\n\u001b[0;32m   3793\u001b[0m     \u001b[38;5;28;01mif\u001b[39;00m \u001b[38;5;28misinstance\u001b[39m(casted_key, \u001b[38;5;28mslice\u001b[39m) \u001b[38;5;129;01mor\u001b[39;00m (\n\u001b[0;32m   3794\u001b[0m         \u001b[38;5;28misinstance\u001b[39m(casted_key, abc\u001b[38;5;241m.\u001b[39mIterable)\n\u001b[0;32m   3795\u001b[0m         \u001b[38;5;129;01mand\u001b[39;00m \u001b[38;5;28many\u001b[39m(\u001b[38;5;28misinstance\u001b[39m(x, \u001b[38;5;28mslice\u001b[39m) \u001b[38;5;28;01mfor\u001b[39;00m x \u001b[38;5;129;01min\u001b[39;00m casted_key)\n\u001b[0;32m   3796\u001b[0m     ):\n\u001b[0;32m   3797\u001b[0m         \u001b[38;5;28;01mraise\u001b[39;00m InvalidIndexError(key)\n\u001b[1;32m-> 3798\u001b[0m     \u001b[38;5;28;01mraise\u001b[39;00m \u001b[38;5;167;01mKeyError\u001b[39;00m(key) \u001b[38;5;28;01mfrom\u001b[39;00m \u001b[38;5;21;01merr\u001b[39;00m\n\u001b[0;32m   3799\u001b[0m \u001b[38;5;28;01mexcept\u001b[39;00m \u001b[38;5;167;01mTypeError\u001b[39;00m:\n\u001b[0;32m   3800\u001b[0m     \u001b[38;5;66;03m# If we have a listlike key, _check_indexing_error will raise\u001b[39;00m\n\u001b[0;32m   3801\u001b[0m     \u001b[38;5;66;03m#  InvalidIndexError. Otherwise we fall through and re-raise\u001b[39;00m\n\u001b[0;32m   3802\u001b[0m     \u001b[38;5;66;03m#  the TypeError.\u001b[39;00m\n\u001b[0;32m   3803\u001b[0m     \u001b[38;5;28mself\u001b[39m\u001b[38;5;241m.\u001b[39m_check_indexing_error(key)\n",
      "\u001b[1;31mKeyError\u001b[0m: 'para military'"
     ]
    },
    {
     "data": {
      "image/png": "[encoded data removed]",
      "text/plain": [
       "<Figure size 640x480 with 1 Axes>"
      ]
     },
     "metadata": {},
     "output_type": "display_data"
    }
   ],
   "source": [
    "df.plot(kind='scatter', x='para military', y='Total')\n"
   ]
  },
  {
   "cell_type": "code",
   "execution_count": null,
   "id": "b59b455c-4369-4f70-a3ec-bcb8f0fa9418",
   "metadata": {},
   "outputs": [],
   "source": []
  }
 ],
 "metadata": {
  "kernelspec": {
   "display_name": "Python 3 (ipykernel)",
   "language": "python",
   "name": "python3"
  },
  "language_info": {
   "codemirror_mode": {
    "name": "ipython",
    "version": 3
   },
   "file_extension": ".py",
   "mimetype": "text/x-python",
   "name": "python",
   "nbconvert_exporter": "python",
   "pygments_lexer": "ipython3",
   "version": "3.11.7"
  }
 },
 "nbformat": 4,
 "nbformat_minor": 5
}
