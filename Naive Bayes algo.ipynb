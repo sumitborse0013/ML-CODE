{
 "cells": [
  {
   "cell_type": "markdown",
   "id": "5859724e-6384-4d81-818a-38dd7ae8bf2c",
   "metadata": {},
   "source": [
    "# EXPERIMENT 8 ML "
   ]
  },
  {
   "cell_type": "code",
   "execution_count": null,
   "id": "6d41ad75-b4cd-4746-bc96-3a72bc1f7f01",
   "metadata": {},
   "outputs": [],
   "source": []
  },
  {
   "cell_type": "code",
   "execution_count": 1,
   "id": "f3f4406e-82de-4001-96c1-e65b097b6d2c",
   "metadata": {},
   "outputs": [],
   "source": [
    "import pandas as pd\n",
    "import numpy as np\n",
    "import matplotlib.pyplot as plt\n",
    "import seaborn as sns\n",
    "from sklearn.naive_bayes import GaussianNB\n",
    "from sklearn.metrics import accuracy_score\n",
    "from sklearn.model_selection import train_test_split\n",
    "import warnings"
   ]
  },
  {
   "cell_type": "code",
   "execution_count": null,
   "id": "13676b7d-c6d8-496f-beca-12457ac33528",
   "metadata": {},
   "outputs": [],
   "source": []
  },
  {
   "cell_type": "code",
   "execution_count": 2,
   "id": "3e856832-ee22-41d1-bde9-c3ed58088351",
   "metadata": {},
   "outputs": [],
   "source": [
    "# Ignore warnings for cleaner output\n",
    "warnings.filterwarnings('ignore')\n"
   ]
  },
  {
   "cell_type": "code",
   "execution_count": 3,
   "id": "615e9331-cc8e-422c-928f-c402adb8c882",
   "metadata": {},
   "outputs": [],
   "source": [
    "# Load the dataset\n",
    "glass = pd.read_csv(\"Experiment8.csv\")"
   ]
  },
  {
   "cell_type": "code",
   "execution_count": 4,
   "id": "b90da051-b809-486b-b249-4ea20752e113",
   "metadata": {},
   "outputs": [
    {
     "name": "stdout",
     "output_type": "stream",
     "text": [
      "Shape of dataset: (214, 10)\n",
      "Null values per column:\n",
      " RI      0\n",
      "Na      0\n",
      "Mg      0\n",
      "Al      0\n",
      "Si      0\n",
      "K       0\n",
      "Ca      0\n",
      "Ba      0\n",
      "Fe      0\n",
      "Type    0\n",
      "dtype: int64\n"
     ]
    }
   ],
   "source": [
    "# Print dataset information\n",
    "print(\"Shape of dataset:\", glass.shape)\n",
    "print(\"Null values per column:\\n\", glass.isnull().sum())"
   ]
  },
  {
   "cell_type": "code",
   "execution_count": null,
   "id": "4ed9b413-522b-4c17-873b-02cf3c68838c",
   "metadata": {},
   "outputs": [],
   "source": []
  },
  {
   "cell_type": "code",
   "execution_count": 5,
   "id": "17b4f0d6-0e0a-4150-85b6-0302f1aae41c",
   "metadata": {},
   "outputs": [
    {
     "data": {
      "image/png": "[encoded data removed]",
      "text/plain": [
       "<Figure size 800x600 with 1 Axes>"
      ]
     },
     "metadata": {},
     "output_type": "display_data"
    }
   ],
   "source": [
    "# Plot distribution of Glass Types\n",
    "plt.figure(figsize=(8, 6))\n",
    "sns.countplot(x='Type', data=glass, color='red')\n",
    "plt.title(\"Distribution of Glass Types\")\n",
    "plt.xlabel(\"Type\")\n",
    "plt.ylabel(\"Count\")\n",
    "plt.show()"
   ]
  },
  {
   "cell_type": "code",
   "execution_count": null,
   "id": "8ef36a4a-5af1-451f-aa88-bd928ad66f49",
   "metadata": {},
   "outputs": [],
   "source": []
  },
  {
   "cell_type": "code",
   "execution_count": 6,
   "id": "87e42689-10ba-458f-94b0-2aa9508f8a62",
   "metadata": {},
   "outputs": [],
   "source": [
    "# Initialize Gaussian Naive Bayes model\n",
    "nb = GaussianNB()\n",
    "\n",
    "# Separate features and target variable\n",
    "X = glass.drop(columns=['Type'])\n",
    "y = glass['Type']\n",
    "\n",
    "# Split data into training and testing sets\n",
    "X_train, X_test, y_train, y_test = train_test_split(X, y, test_size=0.2, random_state=4)"
   ]
  },
  {
   "cell_type": "code",
   "execution_count": 7,
   "id": "bbedf737-9bd8-477d-904a-4e20cf54b3a5",
   "metadata": {},
   "outputs": [
    {
     "name": "stdout",
     "output_type": "stream",
     "text": [
      "Predicted values: [1 7 5 3 3 1 2 1 1 1 5 1 1 7 1 1 1 7 7 1 1 1 7 1 6 7 3 3 7 2 1 7 1 1 1 1 1\n",
      " 2 1 1 5 7 2]\n",
      "Accuracy Score: 0.4883720930232558\n"
     ]
    }
   ],
   "source": [
    "# Train the model on the training data\n",
    "nb.fit(X_train, y_train)\n",
    "\n",
    "# Make predictions on the test set\n",
    "y_pred = nb.predict(X_test)\n",
    "print(\"Predicted values:\", y_pred)\n",
    "\n",
    "# Calculate and print accuracy\n",
    "accuracy = accuracy_score(y_test, y_pred)\n",
    "print(\"Accuracy Score:\", accuracy)"
   ]
  },
  {
   "cell_type": "code",
   "execution_count": null,
   "id": "aef39f0f-453b-4cc8-aaa4-af1d71610713",
   "metadata": {},
   "outputs": [],
   "source": []
  }
 ],
 "metadata": {
  "kernelspec": {
   "display_name": "Python 3 (ipykernel)",
   "language": "python",
   "name": "python3"
  },
  "language_info": {
   "codemirror_mode": {
    "name": "ipython",
    "version": 3
   },
   "file_extension": ".py",
   "mimetype": "text/x-python",
   "name": "python",
   "nbconvert_exporter": "python",
   "pygments_lexer": "ipython3",
   "version": "3.11.7"
  }
 },
 "nbformat": 4,
 "nbformat_minor": 5
}
