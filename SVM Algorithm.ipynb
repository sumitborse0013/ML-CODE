{
 "cells": [
  {
   "cell_type": "markdown",
   "id": "70b3021e-8cab-41c1-908b-f74d37874153",
   "metadata": {},
   "source": [
    "# EXPERIMENT 10 ML"
   ]
  },
  {
   "cell_type": "code",
   "execution_count": null,
   "id": "967e237a-5ff1-4a4d-a050-2809cefa1450",
   "metadata": {},
   "outputs": [],
   "source": []
  },
  {
   "cell_type": "code",
   "execution_count": 1,
   "id": "043f04c9-3ae6-4b8a-8ae5-4962a285a77d",
   "metadata": {},
   "outputs": [],
   "source": [
    "import pandas as pd\n",
    "from sklearn.model_selection import train_test_split\n",
    "from sklearn.svm import SVC"
   ]
  },
  {
   "cell_type": "code",
   "execution_count": null,
   "id": "20b8f3f6-346e-46a1-9fb8-1503681e1cc9",
   "metadata": {},
   "outputs": [],
   "source": []
  },
  {
   "cell_type": "code",
   "execution_count": 2,
   "id": "e168dc21-9641-483d-bf5b-360b45a63de4",
   "metadata": {},
   "outputs": [],
   "source": [
    "fish = pd.read_csv(\"Experiment10.csv\")\n",
    "X = fish.drop(['Species'], axis= 'columns')\n",
    "y = fish.Species"
   ]
  },
  {
   "cell_type": "code",
   "execution_count": null,
   "id": "a2cb2053-cf5e-4432-8965-9d222068f795",
   "metadata": {},
   "outputs": [],
   "source": []
  },
  {
   "cell_type": "code",
   "execution_count": 4,
   "id": "f08dcf54-300a-43ec-9aae-64657b5acfa3",
   "metadata": {},
   "outputs": [],
   "source": [
    "X_train, X_test, y_train, y_test = train_test_split(X, y, test_size= 0.3)"
   ]
  },
  {
   "cell_type": "code",
   "execution_count": null,
   "id": "52f75963-018a-4e4b-9fda-e2094d1c56de",
   "metadata": {},
   "outputs": [],
   "source": []
  },
  {
   "cell_type": "code",
   "execution_count": 5,
   "id": "03af8771-67e1-40c7-97ee-1923951675ac",
   "metadata": {},
   "outputs": [],
   "source": [
    "model = SVC(kernel = \"linear\", C = 1)"
   ]
  },
  {
   "cell_type": "code",
   "execution_count": null,
   "id": "7d4c82cd-04e4-4e8d-ab7a-0507a83bf100",
   "metadata": {},
   "outputs": [],
   "source": []
  },
  {
   "cell_type": "code",
   "execution_count": 6,
   "id": "21385637-9cb4-46ff-ba4f-251a826feec2",
   "metadata": {},
   "outputs": [
    {
     "name": "stdout",
     "output_type": "stream",
     "text": [
      "0.9791666666666666\n",
      "['Roach' 'Pike' 'Parkki' 'Perch' 'Pike' 'Perch' 'Bream' 'Smelt' 'Bream'\n",
      " 'Roach' 'Perch' 'Perch' 'Pike' 'Bream' 'Perch' 'Perch' 'Bream' 'Parkki'\n",
      " 'Perch' 'Roach' 'Perch' 'Smelt' 'Bream' 'Perch' 'Roach' 'Perch' 'Bream'\n",
      " 'Whitefish' 'Perch' 'Bream' 'Parkki' 'Perch' 'Parkki' 'Perch' 'Smelt'\n",
      " 'Bream' 'Smelt' 'Bream' 'Pike' 'Parkki' 'Pike' 'Roach' 'Perch' 'Perch'\n",
      " 'Perch' 'Roach' 'Perch' 'Bream']\n"
     ]
    }
   ],
   "source": [
    "model.fit(X_train, y_train)\n",
    "svm_pred = model.predict(X_test)\n",
    "accuracy = model.score(X_test, y_test)\n",
    "print (accuracy)\n",
    "print (svm_pred)"
   ]
  },
  {
   "cell_type": "code",
   "execution_count": null,
   "id": "c558fc9e-d5e6-4b6a-9224-747cb4fe73f6",
   "metadata": {},
   "outputs": [],
   "source": []
  }
 ],
 "metadata": {
  "kernelspec": {
   "display_name": "Python 3 (ipykernel)",
   "language": "python",
   "name": "python3"
  },
  "language_info": {
   "codemirror_mode": {
    "name": "ipython",
    "version": 3
   },
   "file_extension": ".py",
   "mimetype": "text/x-python",
   "name": "python",
   "nbconvert_exporter": "python",
   "pygments_lexer": "ipython3",
   "version": "3.11.7"
  }
 },
 "nbformat": 4,
 "nbformat_minor": 5
}
