{
 "cells": [
  {
   "cell_type": "code",
   "execution_count": 3,
   "id": "ce7c10f2-5719-43e4-941c-5c8f3badeb32",
   "metadata": {},
   "outputs": [],
   "source": [
    "#Theory : \n",
    "#Description about splitting of data mportance and purpose of splitting Training Data, Validation Data, Testing Data Parameter : \n",
    "#1.Test Size\n",
    "#2.Train size\n",
    "#3.Random State\n",
    "#4.train_test_split() Function\n",
    "\n",
    "#PROGRAM 1 : \n",
    "import pandas as pd\n",
    "from sklearn.model_selection import train_test_split\n",
    "df = pd.read_csv('russia_losses_equipment.csv')\n",
    "X = df.iloc[:, :-1]\n",
    "y = df.iloc[:, -1]\n",
    "X_train, X_test, y_train, y_test = train_test_split(\n",
    "    X, y, test_size=0.05, random_state=0)\n"
   ]
  },
  {
   "cell_type": "code",
   "execution_count": 4,
   "id": "16c9c021-2479-40cc-9a73-3a29e4cd6bbb",
   "metadata": {},
   "outputs": [
    {
     "name": "stdout",
     "output_type": "stream",
     "text": [
      "X_train:\n"
     ]
    }
   ],
   "source": [
    "print(\"X_train:\")\n"
   ]
  },
  {
   "cell_type": "code",
   "execution_count": 5,
   "id": "4a34fa3d-98aa-4011-a5db-fc93545ed348",
   "metadata": {},
   "outputs": [
    {
     "name": "stdout",
     "output_type": "stream",
     "text": [
      "           date  day  aircraft  helicopter  tank   APC  field artillery  MRL  \\\n",
      "390  2023-09-12  566       315         316  4568  8778             5872  764   \n",
      "691  2022-11-15  265       278         261  2861  5773             1850  393   \n",
      "500  2023-05-25  456       309         296  3795  7432             3359  570   \n",
      "418  2023-08-15  538       315         314  4313  8370             5128  714   \n",
      "653  2022-12-23  303       283         267  3005  5986             1984  414   \n",
      "\n",
      "     military auto  fuel tank  drone  naval ship  anti-aircraft warfare  \\\n",
      "390            NaN        NaN   4645          19                    515   \n",
      "691            NaN        NaN   1511          16                    208   \n",
      "500            NaN        NaN   2907          18                    327   \n",
      "418            NaN        NaN   4242          18                    482   \n",
      "653            NaN        NaN   1698          16                    212   \n",
      "\n",
      "     special equipment  mobile SRBM system greatest losses direction  \\\n",
      "390              881.0                 NaN                       NaN   \n",
      "691              160.0                 NaN                       NaN   \n",
      "500              444.0                 NaN                       NaN   \n",
      "418              769.0                 NaN                       NaN   \n",
      "653              178.0                 NaN                       NaN   \n",
      "\n",
      "     vehicles and fuel tanks  cruise missiles  \n",
      "390                   8413.0           1455.0  \n",
      "691                   4351.0            399.0  \n",
      "500                   6148.0           1015.0  \n",
      "418                   7584.0           1387.0  \n",
      "653                   4622.0            653.0  \n"
     ]
    }
   ],
   "source": [
    "print(X_train.head())  # Print the first few rows of the training features\n"
   ]
  },
  {
   "cell_type": "code",
   "execution_count": 6,
   "id": "11e3411f-6293-4566-8676-8d54212803fa",
   "metadata": {},
   "outputs": [
    {
     "name": "stdout",
     "output_type": "stream",
     "text": [
      "\n",
      "X_test:\n",
      "           date  day  aircraft  helicopter  tank    APC  field artillery  \\\n",
      "877  2022-05-13   79       200         162  1205   2900              542   \n",
      "901  2022-04-19   55       169         150   802   2063              386   \n",
      "14   2024-09-22  942       369         328  8768  17222            18333   \n",
      "703  2022-11-03  253       277         258  2734   5552             1755   \n",
      "55   2024-08-12  901       366         328  8450  16368            16728   \n",
      "\n",
      "      MRL  military auto  fuel tank  drone  naval ship  anti-aircraft warfare  \\\n",
      "877   193            NaN        NaN    405          13                     88   \n",
      "901   132         1495.0       76.0    158           8                     67   \n",
      "14   1195            NaN        NaN  15628          28                    949   \n",
      "703   390            NaN        NaN   1442          16                    198   \n",
      "55   1146            NaN        NaN  13472          28                    919   \n",
      "\n",
      "     special equipment  mobile SRBM system greatest losses direction  \\\n",
      "877               41.0                 NaN                 Kurakhove   \n",
      "901               27.0                 4.0                       NaN   \n",
      "14              3144.0                 NaN                       NaN   \n",
      "703              155.0                 NaN                       NaN   \n",
      "55              2801.0                 NaN                       NaN   \n",
      "\n",
      "     vehicles and fuel tanks  cruise missiles  \n",
      "877                   2042.0             95.0  \n",
      "901                      NaN              NaN  \n",
      "14                   25023.0           2595.0  \n",
      "703                   4162.0            397.0  \n",
      "55                   22590.0           2426.0  \n"
     ]
    }
   ],
   "source": [
    "print(\"\\nX_test:\")\n",
    "print(X_test.head())  # Print the first few rows of the testing features\n"
   ]
  },
  {
   "cell_type": "code",
   "execution_count": 7,
   "id": "067a4d37-ea49-4112-b78c-16079965f922",
   "metadata": {},
   "outputs": [
    {
     "name": "stdout",
     "output_type": "stream",
     "text": [
      "\n",
      "y_train:\n",
      "390   NaN\n",
      "691   NaN\n",
      "500   NaN\n",
      "418   NaN\n",
      "653   NaN\n",
      "Name: submarines, dtype: float64\n"
     ]
    }
   ],
   "source": [
    "print(\"\\ny_train:\")\n",
    "print(y_train.head())  # Print the first few rows of the training target values\n"
   ]
  },
  {
   "cell_type": "code",
   "execution_count": 8,
   "id": "87b2eefb-c192-45a6-a01a-ca7dc71059fc",
   "metadata": {},
   "outputs": [
    {
     "name": "stdout",
     "output_type": "stream",
     "text": [
      "\n",
      "y_test:\n",
      "877    NaN\n",
      "901    NaN\n",
      "14     1.0\n",
      "703    NaN\n",
      "55     1.0\n",
      "Name: submarines, dtype: float64\n"
     ]
    }
   ],
   "source": [
    "print(\"\\ny_test:\")\n",
    "print(y_test.head())  # Print the first few rows of the testing target values\n"
   ]
  },
  {
   "cell_type": "code",
   "execution_count": null,
   "id": "0c8a03bd-ea05-4178-bc78-8bd8b4c7a4d8",
   "metadata": {},
   "outputs": [],
   "source": []
  },
  {
   "cell_type": "code",
   "execution_count": null,
   "id": "fd8e0a2b-0376-44d3-a763-13ec9a5b9be9",
   "metadata": {},
   "outputs": [],
   "source": [
    "#PROGRAM 2 : Consider Array input : "
   ]
  },
  {
   "cell_type": "code",
   "execution_count": 10,
   "id": "7ac00d17-e210-4997-b252-25a6dd368467",
   "metadata": {},
   "outputs": [],
   "source": [
    "import numpy as np\n",
    "import pandas as pd\n",
    "from sklearn.model_selection import train_test_split\n",
    "\n",
    "# Define arrays for X and y\n",
    "X = np.array([[1, 2, 3],\n",
    "              [4, 5, 6],\n",
    "              [7, 8, 9],\n",
    "              [10, 11, 12],\n",
    "              [13, 14, 15],\n",
    "              [16, 17, 18],\n",
    "              [19, 20, 21],\n",
    "              [22, 23, 24],\n",
    "              [25, 26, 27],\n",
    "              [28, 29, 30]])\n",
    "\n",
    "y = np.array([1, 2, 3, 4, 5, 6, 7, 8, 9, 10])"
   ]
  },
  {
   "cell_type": "code",
   "execution_count": 12,
   "id": "c7bd910b-8e52-46f9-998c-e748e9bddcbb",
   "metadata": {},
   "outputs": [],
   "source": [
    "# Convert to pandas DataFrame for consistency\n",
    "df = pd.DataFrame(X, columns=['Feature1', 'Feature2', 'Feature3'])\n",
    "df['Target'] = y\n"
   ]
  },
  {
   "cell_type": "code",
   "execution_count": 13,
   "id": "e2d521f7-f071-4095-a5b7-f59b4f661b9c",
   "metadata": {},
   "outputs": [],
   "source": [
    "# Separate features and target variable\n",
    "X = df.iloc[:, :-1]  # Features\n",
    "y = df.iloc[:, -1]   # Target variable\n"
   ]
  },
  {
   "cell_type": "code",
   "execution_count": 14,
   "id": "2f4ed576-96d1-4ce5-ba8a-05044727c0cf",
   "metadata": {},
   "outputs": [],
   "source": [
    "# Split the dataset into training and testing sets\n",
    "X_train, X_test, y_train, y_test = train_test_split(\n",
    "    X, y, test_size=0.3, random_state=0)  # Changed test_size to 30% for demonstration\n"
   ]
  },
  {
   "cell_type": "code",
   "execution_count": 15,
   "id": "f6139b4a-8a9e-4b5d-bfbe-53eae24292fb",
   "metadata": {},
   "outputs": [
    {
     "name": "stdout",
     "output_type": "stream",
     "text": [
      "X_train:\n",
      "   Feature1  Feature2  Feature3\n",
      "9        28        29        30\n",
      "1         4         5         6\n",
      "6        19        20        21\n",
      "7        22        23        24\n",
      "3        10        11        12\n",
      "0         1         2         3\n",
      "5        16        17        18\n"
     ]
    }
   ],
   "source": [
    "# Print the training and testing sets\n",
    "print(\"X_train:\")\n",
    "print(X_train)\n"
   ]
  },
  {
   "cell_type": "code",
   "execution_count": 16,
   "id": "9d9e53cf-c8ac-4594-b516-120b105f8af0",
   "metadata": {},
   "outputs": [
    {
     "name": "stdout",
     "output_type": "stream",
     "text": [
      "\n",
      "X_test:\n",
      "   Feature1  Feature2  Feature3\n",
      "2         7         8         9\n",
      "8        25        26        27\n",
      "4        13        14        15\n"
     ]
    }
   ],
   "source": [
    "print(\"\\nX_test:\")\n",
    "print(X_test)\n"
   ]
  },
  {
   "cell_type": "code",
   "execution_count": 17,
   "id": "2f327cea-5e88-4750-92e2-61fbda9667a1",
   "metadata": {},
   "outputs": [
    {
     "name": "stdout",
     "output_type": "stream",
     "text": [
      "\n",
      "y_train:\n",
      "9    10\n",
      "1     2\n",
      "6     7\n",
      "7     8\n",
      "3     4\n",
      "0     1\n",
      "5     6\n",
      "Name: Target, dtype: int32\n"
     ]
    }
   ],
   "source": [
    "print(\"\\ny_train:\")\n",
    "print(y_train)\n"
   ]
  },
  {
   "cell_type": "code",
   "execution_count": 18,
   "id": "34687c83-eee5-4705-aba2-f7ccb1f2ab20",
   "metadata": {},
   "outputs": [
    {
     "name": "stdout",
     "output_type": "stream",
     "text": [
      "\n",
      "y_test:\n",
      "2    3\n",
      "8    9\n",
      "4    5\n",
      "Name: Target, dtype: int32\n"
     ]
    }
   ],
   "source": [
    "print(\"\\ny_test:\")\n",
    "print(y_test)\n"
   ]
  },
  {
   "cell_type": "code",
   "execution_count": 9,
   "id": "29dddbbe-254a-4400-8504-39cb042dc24b",
   "metadata": {},
   "outputs": [
    {
     "name": "stdout",
     "output_type": "stream",
     "text": [
      "Accuracy: 70.13%\n"
     ]
    }
   ],
   "source": [
    "from pandas import read_csv\n",
    "from sklearn.model_selection import train_test_split\n",
    "from sklearn.metrics import accuracy_score\n",
    "from sklearn.neighbors import KNeighborsClassifier\n",
    "from sklearn.preprocessing import StandardScaler\n",
    "import pandas as pd\n",
    "\n",
    "# Load the dataset\n",
    "url = \"C:/Users/sumit/OneDrive/Desktop/archive/diabetes.csv\"\n",
    "\n",
    "df = read_csv(url)\n",
    "\n",
    "# Drop any non-numeric columns and drop rows with missing values (if any)\n",
    "df = df.dropna()\n",
    "\n",
    "# Separate features and target (assuming 'Outcome' is the target variable)\n",
    "X = df.iloc[:, :-1]  # All columns except the last\n",
    "y = df.iloc[:, -1]   # The last column is the target variable\n",
    "\n",
    "# Ensure all features are numeric\n",
    "X = X.apply(pd.to_numeric, errors='coerce')\n",
    "X = X.dropna()  # Drop rows where conversion to numeric failed\n",
    "\n",
    "# Split dataset\n",
    "X_train, X_test, y_train, y_test = train_test_split(X, y, test_size=0.3, random_state=42)\n",
    "\n",
    "# Scale features\n",
    "scaler = StandardScaler()\n",
    "X_train = scaler.fit_transform(X_train)\n",
    "X_test = scaler.transform(X_test)\n",
    "\n",
    "# Define model\n",
    "model = KNeighborsClassifier()\n",
    "\n",
    "# Fit model\n",
    "model.fit(X_train, y_train)\n",
    "\n",
    "# Predict\n",
    "y_pred = model.predict(X_test)\n",
    "\n",
    "# Evaluate predictions and print only accuracy\n",
    "accuracy = accuracy_score(y_test, y_pred)\n",
    "print(f'Accuracy: {accuracy * 100:.2f}%')\n"
   ]
  },
  {
   "cell_type": "code",
   "execution_count": null,
   "id": "38b73073-6d61-4979-aa9e-09696d9a34ed",
   "metadata": {},
   "outputs": [],
   "source": []
  }
 ],
 "metadata": {
  "kernelspec": {
   "display_name": "Python 3 (ipykernel)",
   "language": "python",
   "name": "python3"
  },
  "language_info": {
   "codemirror_mode": {
    "name": "ipython",
    "version": 3
   },
   "file_extension": ".py",
   "mimetype": "text/x-python",
   "name": "python",
   "nbconvert_exporter": "python",
   "pygments_lexer": "ipython3",
   "version": "3.11.7"
  }
 },
 "nbformat": 4,
 "nbformat_minor": 5
}
